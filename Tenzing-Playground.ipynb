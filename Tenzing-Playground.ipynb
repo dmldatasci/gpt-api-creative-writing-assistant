{
 "cells": [
  {
   "cell_type": "markdown",
   "id": "107e6652",
   "metadata": {},
   "source": [
    "<div>\n",
    "<img src=\"NGCreativeWorks_horizontal.png\" width=\"400\"/>\n",
    "</div>"
   ]
  },
  {
   "cell_type": "markdown",
   "id": "67b3bf00",
   "metadata": {},
   "source": [
    "# The Tenzing Wireframe"
   ]
  },
  {
   "cell_type": "markdown",
   "id": "d72e8a35",
   "metadata": {},
   "source": [
    "## Mission Statement\n",
    "This product is designed to assist creative writing professionals in their efforts to craft narratives for branded content that feel authentic to the National Geographic brand. The aim of this application is to provide creatives with a unique tool that understands the creative writing process in the context of an ad sales environment. It should be able to flexibly take input from users and provide suggestions where necessary, thereby facilitating the development of narrative storytelling without forcing the user into a box."
   ]
  },
  {
   "attachments": {},
   "cell_type": "markdown",
   "id": "59f63e74",
   "metadata": {},
   "source": [
    "## Story Design\n",
    "\n",
    "### Story Outline \n",
    "- **Title**\n",
    "    - Think in terms of the Channel guide.\n",
    "    - No more than 3 words, e.g Tasting Wild, Breaking 2, My Next, Built Wild\n",
    "    \n",
    "- **Logline**\n",
    "    - What is it about? Two sentences. A tagline that gets you interested to watch.\n",
    "    - If there was a poster, the logline would frame the visual.   “A does B to discover C”\n",
    "    \n",
    "- **Story Outline**\n",
    "    - 3-act structure: \n",
    "        - Set-up\n",
    "            - Who is our Protagonist?  What’s at stake?\n",
    "            - Show who they are (character)\n",
    "            - Where the story takes place (setting) \n",
    "            - What they want, and what they need to do to achieve goal / mission (plot)\n",
    "            \n",
    "        - Challenge\n",
    "            - What happens? How does the Protagonist begin the quest (and ultimately fulfill or fail).\n",
    "            - What happens if they achieve / don’t achieve?  How do we raise the stakes?  Action = Character.\n",
    "            - How does our Protagonist go about their opportunity—apply knowledge, experience, insights to adapt to challenges?\n",
    "            - Who or what challenges, i.e. ‘Forces of Antagonism’, do they confront?  This could be natural, physical, mental, societal, etc.\n",
    "            - Who is the Antagonist?\n",
    "            - Who or what helps them on the Quest?  i.e. Collaborator, local insight, etc.\n",
    "            \n",
    "        - Resolution\n",
    "            - How does it end?  What do we the audience learn?  How does the Protagonist learn, transform, feel after the journey\n",
    "            - What is the closing image?\n",
    "            - How does the story end, or is issue resolved?  \n",
    "\n",
    "- **Directional Talent**\n",
    "    - Who do we see the audience folliwing?\n",
    "    - Include name, short profile, why we like them and they are great for brand, links etc.\n",
    "\n",
    "- **Role of the Brand**\n",
    "    - What is the Company purpose or mission?  as Hero – purpose, mission \n",
    "    - What are brand / product values, benefits?  Ex.  Nike is not about shoes – it is about human achievement through sport\n",
    "\n",
    "- **Considerations**\n",
    "    - What is the Opening Image that sets up the story?\n",
    "    - Who is our Audience?  What do we want the audience to feel?\n",
    "    - What is the HOOK inciting incident that advances the story from Set Up to Action?\n",
    "    - What is the WHY - the cause / effect that defines the story\n",
    "        - Why does Melissa go up the mountain?  To gain inspiration from nature for new experiences as a chef\n",
    "    - Does the story make you CURIOUS?\n",
    "\n",
    "Something needs to happen\n",
    "1.\tThe PLOT is the STORY...THEME is the LESSON...\n",
    "2.\tThe PLOT ends at the CLIMAX... what did the hero ACCOMPLISH\n",
    "3.\tThe STORY ends at the CONCLUSION... what did the hero (and the audience) LEARN\n",
    "4.\tThe INCITING INCIDENT must seriously disrupt the (hero's) status quo - it can’t be ignored- it will determine and define what the CLIMAX must be... \n",
    "5.\tAll the audience cares about is: \n",
    "a.\tWho wants what from whom?  \n",
    "b.\tWhat happens if they don’t get it?  \n",
    "c.\tWhy is this happening now?\n",
    "d.\tWhat happens next?\n",
    "6.\tThe audience must learn without being taught\n",
    "\n",
    "Finally…\n",
    "ADVERTISING is about getting the audience to care about the product or brand; STORY is getting the audience to care about the ending.\n",
    "\n",
    "CONTENT QUESTIONS\n",
    "1.\tWhat’s the story about? (logline/summary)\n",
    "2.\tWhat are the themes? (premise)\n",
    "3.\tWhat’s the ONE THING we want to accomplish for the brand & Nat Geo?  (vision)\n",
    "4.\tWhat do we want the content to accomplish? (business objectives)\n",
    "5.\tWho are we reaching / convincing / targeting? (audience)\n",
    "6.\tWhy will the audience appreciate? (purpose)  \n",
    "7.\tWhat are we making?  (production, budgets, schedule)\n",
    "8.\tWho will the audience follow and why (characters, our protagonists)\n",
    "9.\tWhy are we making it?  (data / insight)\n",
    "10.\tWhere / how is it seen, experienced (distribution)\n",
    "11.\tWhen do we engage?  (media)\n",
    "12.\tWhat is the feeling we want to inspire? (emotion)\n",
    "13.\tWhat behaviors do we want to inspire? (CTA)\n",
    "14.\tWhat is the role of the brand?  (product v themes)\n",
    "15.\tWhat is the brand truth realized from the story?\n",
    "16.\tWhat is the hook?  (why do we care?)\n",
    "17.\tHow does it use paid/owned/earned media? (integration)\n",
    "18.\tHow do we surprise and delight?  (PR value)\n",
    "\n",
    "NAT GEO STORY FILTERS\n",
    "1.\tBe First, Be Current\n",
    "2.\tPresent tense and kinetic\n",
    "3.\tBig and tantalizing mystery \n",
    "4.\tNew and relevant\n",
    "5.\tUnfolding adventure\n",
    "6.\tClear stakes\n",
    "7.\tCharismatic protagonist\n",
    "8.\tCinematic visuals\n",
    "9.\tStory told across platforms\n",
    "\n",
    "WHAT STORY IS / IS NOT\n",
    "7.\tIs: Procession, an escalation of conflicts / tension / events that cause meaningful change in a character’s life.\n",
    "8.\tIs Not hierarchy, chronology, recitals of facts or events"
   ]
  },
  {
   "cell_type": "markdown",
   "id": "0f989d11",
   "metadata": {},
   "source": [
    "#### Critical Prep Work"
   ]
  },
  {
   "cell_type": "code",
   "execution_count": 66,
   "id": "3944d463",
   "metadata": {},
   "outputs": [],
   "source": [
    "# load dependencies\n",
    "import os\n",
    "import pandas as pd\n",
    "import random\n",
    "import openai\n",
    "\n",
    "# turn off warnings\n",
    "import warnings\n",
    "warnings.filterwarnings('ignore')"
   ]
  },
  {
   "cell_type": "code",
   "execution_count": 67,
   "id": "ee4b2ff4",
   "metadata": {},
   "outputs": [],
   "source": [
    "from dotenv import load_dotenv\n",
    "load_dotenv()\n",
    "\n",
    "openai.organization = \"org-0BOxjYcmAQHWMxjeqdgUznF6\"\n",
    "openai.api_key = os.environ.get('OPENAI_API_KEY')"
   ]
  },
  {
   "cell_type": "code",
   "execution_count": 68,
   "id": "37777c95",
   "metadata": {},
   "outputs": [
    {
     "data": {
      "text/html": [
       "<div>\n",
       "<style scoped>\n",
       "    .dataframe tbody tr th:only-of-type {\n",
       "        vertical-align: middle;\n",
       "    }\n",
       "\n",
       "    .dataframe tbody tr th {\n",
       "        vertical-align: top;\n",
       "    }\n",
       "\n",
       "    .dataframe thead th {\n",
       "        text-align: right;\n",
       "    }\n",
       "</style>\n",
       "<table border=\"1\" class=\"dataframe\">\n",
       "  <thead>\n",
       "    <tr style=\"text-align: right;\">\n",
       "      <th></th>\n",
       "      <th>First Name</th>\n",
       "      <th>Last Name</th>\n",
       "      <th>National Geographic Titles</th>\n",
       "      <th>Residential Country</th>\n",
       "      <th>Professions</th>\n",
       "      <th>Specialities</th>\n",
       "      <th>Photography Skills</th>\n",
       "      <th>Brand Preferences</th>\n",
       "      <th>Brand Affiliation</th>\n",
       "      <th>Mini Bio</th>\n",
       "      <th>Hobbies</th>\n",
       "      <th>Charity Interests</th>\n",
       "      <th>Instagram</th>\n",
       "      <th>Website</th>\n",
       "      <th>Photography Genres</th>\n",
       "      <th>Full Name</th>\n",
       "    </tr>\n",
       "  </thead>\n",
       "  <tbody>\n",
       "    <tr>\n",
       "      <th>0</th>\n",
       "      <td>Lynsey</td>\n",
       "      <td>Addario</td>\n",
       "      <td>Explorer &amp; Photographer</td>\n",
       "      <td>United States</td>\n",
       "      <td>Photographer</td>\n",
       "      <td>NaN</td>\n",
       "      <td>NaN</td>\n",
       "      <td>NaN</td>\n",
       "      <td>NaN</td>\n",
       "      <td>Lynsey Addario is a photojournalist based in L...</td>\n",
       "      <td>NaN</td>\n",
       "      <td>NaN</td>\n",
       "      <td>https://www.instagram.com/lynseyaddario/</td>\n",
       "      <td>https://www.lynseyaddario.com</td>\n",
       "      <td>NaN</td>\n",
       "      <td>Lynsey Addario</td>\n",
       "    </tr>\n",
       "    <tr>\n",
       "      <th>1</th>\n",
       "      <td>Lujan</td>\n",
       "      <td>Agusti</td>\n",
       "      <td>Explorer &amp; Photographer</td>\n",
       "      <td>NaN</td>\n",
       "      <td>Photographer</td>\n",
       "      <td>NaN</td>\n",
       "      <td>NaN</td>\n",
       "      <td>NaN</td>\n",
       "      <td>NaN</td>\n",
       "      <td>Puerto Madryn, Argentina, 1986. National Geogr...</td>\n",
       "      <td>NaN</td>\n",
       "      <td>NaN</td>\n",
       "      <td>https://www.instagram.com/lujanag/?hl=en</td>\n",
       "      <td>https://www.lujanagusti.com/</td>\n",
       "      <td>NaN</td>\n",
       "      <td>Lujan Agusti</td>\n",
       "    </tr>\n",
       "    <tr>\n",
       "      <th>2</th>\n",
       "      <td>Sue</td>\n",
       "      <td>Aikens</td>\n",
       "      <td>NaN</td>\n",
       "      <td>NaN</td>\n",
       "      <td>NaN</td>\n",
       "      <td>NaN</td>\n",
       "      <td>NaN</td>\n",
       "      <td>NaN</td>\n",
       "      <td>NaN</td>\n",
       "      <td>NaN</td>\n",
       "      <td>NaN</td>\n",
       "      <td>NaN</td>\n",
       "      <td>https://www.instagram.com/sueaikens</td>\n",
       "      <td>https://www.kavikrivercamp.com/</td>\n",
       "      <td>NaN</td>\n",
       "      <td>Sue Aikens</td>\n",
       "    </tr>\n",
       "    <tr>\n",
       "      <th>3</th>\n",
       "      <td>Diva</td>\n",
       "      <td>Amon</td>\n",
       "      <td>Explorer</td>\n",
       "      <td>Trinidad and Tobago</td>\n",
       "      <td>Conservationist,  Ecologist,  Marine Biologist...</td>\n",
       "      <td>Especially open-ocean and deep-sea biology</td>\n",
       "      <td>NaN</td>\n",
       "      <td>Anything ocean-related or environment-related</td>\n",
       "      <td>No</td>\n",
       "      <td>Dr. Diva Amon is a Caribbean marine biologist ...</td>\n",
       "      <td>I'm a complete water baby - scuba diving, snor...</td>\n",
       "      <td>SpeSeas (Trinbagonian management and usage of ...</td>\n",
       "      <td>https://www.instagram.com/diva_amon/</td>\n",
       "      <td>https://divaamon.com/</td>\n",
       "      <td>NaN</td>\n",
       "      <td>Diva Amon</td>\n",
       "    </tr>\n",
       "  </tbody>\n",
       "</table>\n",
       "</div>"
      ],
      "text/plain": [
       "  First Name Last Name National Geographic Titles  Residential Country  \\\n",
       "0     Lynsey   Addario    Explorer & Photographer        United States   \n",
       "1      Lujan    Agusti    Explorer & Photographer                  NaN   \n",
       "2        Sue    Aikens                        NaN                  NaN   \n",
       "3       Diva      Amon                   Explorer  Trinidad and Tobago   \n",
       "\n",
       "                                         Professions  \\\n",
       "0                                       Photographer   \n",
       "1                                       Photographer   \n",
       "2                                                NaN   \n",
       "3  Conservationist,  Ecologist,  Marine Biologist...   \n",
       "\n",
       "                                 Specialities Photography Skills  \\\n",
       "0                                         NaN                NaN   \n",
       "1                                         NaN                NaN   \n",
       "2                                         NaN                NaN   \n",
       "3  Especially open-ocean and deep-sea biology                NaN   \n",
       "\n",
       "                               Brand Preferences Brand Affiliation  \\\n",
       "0                                            NaN               NaN   \n",
       "1                                            NaN               NaN   \n",
       "2                                            NaN               NaN   \n",
       "3  Anything ocean-related or environment-related                No   \n",
       "\n",
       "                                            Mini Bio  \\\n",
       "0  Lynsey Addario is a photojournalist based in L...   \n",
       "1  Puerto Madryn, Argentina, 1986. National Geogr...   \n",
       "2                                                NaN   \n",
       "3  Dr. Diva Amon is a Caribbean marine biologist ...   \n",
       "\n",
       "                                             Hobbies  \\\n",
       "0                                                NaN   \n",
       "1                                                NaN   \n",
       "2                                                NaN   \n",
       "3  I'm a complete water baby - scuba diving, snor...   \n",
       "\n",
       "                                   Charity Interests  \\\n",
       "0                                                NaN   \n",
       "1                                                NaN   \n",
       "2                                                NaN   \n",
       "3  SpeSeas (Trinbagonian management and usage of ...   \n",
       "\n",
       "                                  Instagram                          Website  \\\n",
       "0  https://www.instagram.com/lynseyaddario/    https://www.lynseyaddario.com   \n",
       "1  https://www.instagram.com/lujanag/?hl=en     https://www.lujanagusti.com/   \n",
       "2       https://www.instagram.com/sueaikens  https://www.kavikrivercamp.com/   \n",
       "3      https://www.instagram.com/diva_amon/            https://divaamon.com/   \n",
       "\n",
       "  Photography Genres       Full Name  \n",
       "0                NaN  Lynsey Addario  \n",
       "1                NaN    Lujan Agusti  \n",
       "2                NaN      Sue Aikens  \n",
       "3                NaN       Diva Amon  "
      ]
     },
     "execution_count": 68,
     "metadata": {},
     "output_type": "execute_result"
    }
   ],
   "source": [
    "# load the priority talent roster dataset\n",
    "filepath = \"talent_resources/priority_roster_012323.csv\"\n",
    "talent_df = pd.read_csv(filepath,encoding=\"ISO-8859-1\")\n",
    "\n",
    "# clean the name fields by removing `?` chracters\n",
    "talent_df[\"First Name\"] = talent_df[\"First Name\"].str.replace(\"?\", \"\")\n",
    "talent_df[\"Last Name\"] = talent_df[\"Last Name\"].str.replace(\"?\", \"\")\n",
    "\n",
    "# clean the Professions and Photography Skills fields by removing semi-colons\n",
    "talent_df[\"Professions\"] = talent_df[\"Professions\"].str.replace(\";\", \", \")\n",
    "talent_df[\"Photography Skills\"] = talent_df[\"Photography Skills\"].str.replace(\";\", \", \")\n",
    "\n",
    "# add a full name column\n",
    "talent_df[\"Full Name\"] = talent_df[\"First Name\"] + \" \" + talent_df[\"Last Name\"]\n",
    "\n",
    "# visualize the dataframe\n",
    "talent_df.head(4)"
   ]
  },
  {
   "cell_type": "code",
   "execution_count": 69,
   "id": "554a1294",
   "metadata": {},
   "outputs": [
    {
     "data": {
      "text/plain": [
       "['Eric Stackpole',\n",
       " 'Robbie Shone',\n",
       " 'Elliot Ross',\n",
       " 'Jennifer Hayes',\n",
       " 'Jennifer Lopez',\n",
       " 'Zoleka Filander',\n",
       " 'Kristen Kish',\n",
       " 'Diego Ponce de Leon Barido',\n",
       " 'Luca Locatelli',\n",
       " 'Ronan Donovan']"
      ]
     },
     "execution_count": 69,
     "metadata": {},
     "output_type": "execute_result"
    }
   ],
   "source": [
    "# run a quick test to ensure we can comfortably grab random talent as needed\n",
    "random.sample(sorted(talent_df[\"Full Name\"]), 10)"
   ]
  },
  {
   "cell_type": "markdown",
   "id": "5b88b79a",
   "metadata": {},
   "source": [
    "For demo purposes, we begin with five critical components of any story that will eventually become video content on National Geographic platforms:"
   ]
  },
  {
   "cell_type": "markdown",
   "id": "edc37df3",
   "metadata": {},
   "source": [
    "* **Protagonist**\n",
    "    * Who is our hero and what do we know about them?"
   ]
  },
  {
   "cell_type": "markdown",
   "id": "16d674e3",
   "metadata": {},
   "source": [
    "* **Action**\n",
    "    * What is our protagonist doing?"
   ]
  },
  {
   "cell_type": "markdown",
   "id": "a08b76fd",
   "metadata": {},
   "source": [
    "* **Quest**\n",
    "    * What is our protagonist trying to achieve, and how does their journey echo the themes of the story?"
   ]
  },
  {
   "cell_type": "markdown",
   "id": "a75edf0f",
   "metadata": {},
   "source": [
    "* **Location**\n",
    "    * Where in the world is our protagonist, and how does that location support the story of their journey?"
   ]
  },
  {
   "cell_type": "markdown",
   "id": "eb2dda82",
   "metadata": {},
   "source": [
    "* **Tools**\n",
    "    * What tools does our protagonist need in order to help them achieve their goal? How do those tools aid the protagonist on their path to victory?"
   ]
  },
  {
   "cell_type": "code",
   "execution_count": 142,
   "id": "4db2adfb",
   "metadata": {},
   "outputs": [],
   "source": [
    "# what do we want to build around?\n",
    "buildaround_options = {1 : \"Talent\",\n",
    "                       2 : \"Location\",\n",
    "                       3 : \"Action\",\n",
    "                       4 : \"Brand\",\n",
    "                       5 : \"Let's just start\"}\n",
    "\n",
    "# what ideas about a protagonist might the user bring with them to the table?\n",
    "protagonist_options = {1 : \"Generic Explorer\",\n",
    "                       2 : \"Generic Photographer\",\n",
    "                       3 : \"Specific talent\",\n",
    "                       4 : \"I need suggestions\"}\n",
    "\n",
    "profession_options = {1 : \"I have an idea\",\n",
    "                      2 : \"It's not important\",\n",
    "                      3 : \"I need suggestions\"}\n",
    "\n",
    "specialty_options = {1 : \"I have an idea\",\n",
    "                     2 : \"It's not important\",\n",
    "                     3 : \"I need suggestions\"}\n",
    "\n",
    "# action should be a fairly free-form input, so we'll leave it more open-ended\n",
    "action_options = {1 : \"I have some action in mind\",\n",
    "                  2 : \"I need suggestions\"}\n",
    "\n",
    "# the quest can come from the brief, it could be an idea in the writer's head,\n",
    "# or it could come from the talent profile\n",
    "quest_options = {1 : \"I have a quest idea to guide the protagonist\",\n",
    "                 2 : \"I need suggestions\"}\n",
    "\n",
    "# location can also be somewhat open-ended, but might rely on the action and the quest\n",
    "location_options = {1 : \"I have a location in mind\",\n",
    "                    2 : \"I need suggestions\"}\n",
    "\n",
    "# tools are either coming specifically from the brief or they could be fitted into the story ad hoc\n",
    "tool_options = {1 : \"I am writing to a brief and have a specific brand/product to incorporate\",\n",
    "                2 : \"This is proactive, so it would be great to see some product integration suggestions\"}"
   ]
  },
  {
   "cell_type": "markdown",
   "id": "98621eaa",
   "metadata": {},
   "source": [
    "The general ideas is that at each step, we'll use the information we have to retrieve the best possible output from the OpenAI API. To make that happen, we need to split all of our steps into discrete functions that can handle user input and understand where in the writing process we are. This is the most complicated piece, and it will likely take a large number of iterations to get it right. But we have to start somewhere!"
   ]
  },
  {
   "cell_type": "code",
   "execution_count": 53,
   "id": "27717681",
   "metadata": {},
   "outputs": [],
   "source": [
    "# a function that takes user input and handles \n",
    "def RetrieveProtagonist(user_input):\n",
    "    \n",
    "    # generic explorer track\n",
    "    if user_input == \"1\":\n",
    "\n",
    "        print(\"\\n\\nGreat, we'll just reference a generic Nat Geo Explorer.\", \n",
    "              \"\\nDo you have an idea of what this Explorer's profession is?\\n\")\n",
    "        \n",
    "        for opt in profession_options:\n",
    "            print(\"(\" + str(opt) + \")\" + \" \" + profession_options[opt])\n",
    "            \n",
    "        prof_pick = input(\"\\nSelect an option:  \")\n",
    "        \n",
    "        profession = RetrieveProfession(prof_pick)\n",
    "        protagonist = \"National Geographic Explorer\" + profession\n",
    "    \n",
    "    # generic photographer track\n",
    "    elif user_input == \"2\":\n",
    "        \n",
    "        print(\"\\n\\nGreat, we'll just reference a generic Nat Geo Photographer.\", \n",
    "              \"\\nDo you have an idea of what this Photographer's specialty is?\\n\")\n",
    "        \n",
    "        for opt in profession_options:\n",
    "            print(\"(\" + str(opt) + \")\" + \" \" + profession_options[opt])\n",
    "            \n",
    "        spec_pick = input(\"\\nSelect an option: \")\n",
    "        \n",
    "        specialty = RetrieveSpecialty(spec_pick)\n",
    "        specialty = \"whose work with \" + specialty # + short AI-generated phrase about audience impact\n",
    "    \n",
    "    # specific talent\n",
    "    elif user_input == \"3\":\n",
    "        pass\n",
    "    \n",
    "    # suggestions\n",
    "    elif user_input == \"4\":\n",
    "        pass\n",
    "        \n",
    "    else:\n",
    "        return False\n",
    "    \n",
    "    return protagonist"
   ]
  },
  {
   "cell_type": "code",
   "execution_count": 174,
   "id": "817ed6f3",
   "metadata": {},
   "outputs": [],
   "source": [
    "def RetrieveSpecialty(user_input):\n",
    "    \n",
    "    # user indicates they want to weigh in on specialty\n",
    "    if user_input == \"1\":\n",
    "        specialty = input(\"Okay, what are you thinking in terms of what the protagonist photographer's specialty'?\")\n",
    "    \n",
    "    # user indicates specialty is not important\n",
    "    elif user_input == \"2\":\n",
    "        specialty = \"\"\n",
    "    \n",
    "    # user indicates they want suggestions for specialty\n",
    "    elif user_input == \"3\":\n",
    "        response = openai.Completion.create(\n",
    "            model=\"text-davinci-003\",\n",
    "            prompt=\"Show me 5 potential specialties Nat Geo photographers might have. \\\n",
    "                    Be specific about locations, subject matter and theme/message of the work. \\\n",
    "                    Use full sentences. \\\n",
    "                    Format it as a python list, do not assign to a variable.\",\n",
    "            temperature=0.9,\n",
    "            max_tokens=3800,\n",
    "            top_p=1,\n",
    "            frequency_penalty=0,\n",
    "            presence_penalty=0)\n",
    "        \n",
    "        specialty = CleanAIResponse(response)\n",
    "            \n",
    "    return specialty\n",
    "    "
   ]
  },
  {
   "cell_type": "code",
   "execution_count": 175,
   "id": "662ef2e5",
   "metadata": {},
   "outputs": [],
   "source": [
    "def CleanAIResponse(response):\n",
    "    \n",
    "    response = response.choices[0].text.replace(\"\\n\", \"\").strip(\"][.\").split(\", \")\n",
    "    \n",
    "    return response"
   ]
  },
  {
   "cell_type": "code",
   "execution_count": 114,
   "id": "78f28a1c",
   "metadata": {},
   "outputs": [],
   "source": [
    "# a function that returns text containing profession information based on user input passed as an argument\n",
    "def RetrieveProfession(user_input):\n",
    "    \n",
    "    if user_input == \"1\":\n",
    "        \n",
    "        prof = input(\"\\n\\nWonderful, what's their job?  \")\n",
    "        # code to ask GPT to turn this into a job title\n",
    "        prof = \" and \" + prof\n",
    "    \n",
    "    elif user_input == \"2\":\n",
    "        \n",
    "        prof = \"\"\n",
    "    \n",
    "    elif user_input == \"3\":\n",
    "        # logic to print out a few random ideas from the profession list\n",
    "        prof = \" and marine biologist\"\n",
    "    \n",
    "    else:\n",
    "        return False\n",
    "    \n",
    "    return prof"
   ]
  },
  {
   "cell_type": "code",
   "execution_count": 115,
   "id": "39955262",
   "metadata": {},
   "outputs": [],
   "source": [
    "# a function that returns a generic woman's, man's or unisex name based on user input\n",
    "def RetrieveGender():\n",
    "    \n",
    "    gender = input(\"Is gender critical to the story?\\n\\n\" + \n",
    "                   \"(1) Female \\n(2) Male \\n(3) It doesn't matter\" +\n",
    "                  \"\\n\\nSelect one:  \")\n",
    "    \n",
    "    if gender == \"1\":\n",
    "        name = \", Jane Doe\"\n",
    "        \n",
    "    elif gender == \"2\":\n",
    "        name = \", John Doe\"\n",
    "        \n",
    "    else:\n",
    "        name = \", Bryce Doe\"\n",
    "    \n",
    "    return name"
   ]
  },
  {
   "cell_type": "code",
   "execution_count": 116,
   "id": "af932c33",
   "metadata": {},
   "outputs": [],
   "source": [
    "def WriteStory():\n",
    "    \n",
    "    # get a sense for whether the user has an idea in mind\n",
    "    print(\"Are we building a story around something today or starting from scratch?\")\n",
    "    \n",
    "    for opt in buildaround_options:\n",
    "        print(\"(\" + str(opt) + \")\" + \" \" + )\n",
    "        \n",
    "    build_pick = input(\"\\nSelect an option from the menu above:  \")\n",
    "    \n",
    "    crit_info\n",
    "    \n",
    "    # initiate protagonist sequence\n",
    "    print(\"Tell me about the hero of your story: \\n\")\n",
    "    \n",
    "    for opt in protagonist_options:\n",
    "        print(\"(\" + str(opt) + \")\" + \" \" + protagonist_options[opt])\n",
    "        \n",
    "    prot_pick = input(\"\\nSelect an option from the menu above:  \")\n",
    "    \n",
    "    protagonist = RetrieveProtagonist(prot_pick)\n",
    "    name = RetrieveGender()\n",
    "    \n",
    "    print(f\"\\n\\nOkay, then. We're writing a story about {protagonist + name}.\" +\n",
    "          \"\\n\\nWhat do you want to tackle now?\\n\\n\" + \n",
    "          \"(1) The location \\n(2) The quest \\n(3) The tools \\n(4) The lessons learned\")\n",
    "    \n",
    "    next_move = input(\"\\n\\nSelect one:  \")\n",
    "    \n",
    "    return "
   ]
  },
  {
   "cell_type": "markdown",
   "id": "00db8189",
   "metadata": {},
   "source": [
    "#### The Demo"
   ]
  },
  {
   "cell_type": "code",
   "execution_count": 176,
   "id": "1d7b89e0",
   "metadata": {},
   "outputs": [
    {
     "data": {
      "text/plain": [
       "[\"'Wildlife photographer in East Africa focusing on the beauty and vulnerability of endangered species','Urban photographer documenting the lives of people living in Latin American cities','Travel photographer capturing the sights\",\n",
       " \"sounds and culture of the Middle East'\",\n",
       " \"'Environmental photographer emphasizing the effects of climate change in arctic regions','Cultural photographer exploring traditional customs and celebrations of tribes in the Amazon rainforest'\"]"
      ]
     },
     "execution_count": 176,
     "metadata": {},
     "output_type": "execute_result"
    }
   ],
   "source": [
    "RetrieveSpecialty(\"3\")"
   ]
  },
  {
   "cell_type": "code",
   "execution_count": 119,
   "id": "2fa3267e",
   "metadata": {},
   "outputs": [
    {
     "name": "stdout",
     "output_type": "stream",
     "text": [
      "Tell me about the hero of your story: \n",
      "\n",
      "(1) Generic Explorer\n",
      "(2) Generic Photographer\n",
      "(3) Specific talent\n",
      "(4) I need suggestions\n",
      "\n",
      "Select an option from the menu above:  1\n",
      "\n",
      "\n",
      "Great, we'll just reference a generic Nat Geo Explorer. \n",
      "Do you have an idea of what this Explorer's profession is?\n",
      "\n",
      "(1) I have an idea\n",
      "(2) It's not important\n",
      "(3) I need suggestions\n",
      "\n",
      "Select an option:  1\n",
      "\n",
      "\n",
      "Wonderful, what's their job?  cave diver\n",
      "Is gender critical to the story?\n",
      "\n",
      "(1) Female \n",
      "(2) Male \n",
      "(3) It doesn't matter\n",
      "\n",
      "Select one:  1\\\n",
      "\n",
      "\n",
      "Okay, then. We're writing a story about National Geographic Explorer and cave diver, Bryce Doe.\n",
      "\n",
      "What do you want to tackle now?\n",
      "\n",
      "(1) The location \n",
      "(2) The quest \n",
      "(3) The tools \n",
      "(4) The lessons learned\n"
     ]
    },
    {
     "ename": "KeyboardInterrupt",
     "evalue": "Interrupted by user",
     "output_type": "error",
     "traceback": [
      "\u001b[0;31m---------------------------------------------------------------------------\u001b[0m",
      "\u001b[0;31mKeyboardInterrupt\u001b[0m                         Traceback (most recent call last)",
      "Input \u001b[0;32mIn [119]\u001b[0m, in \u001b[0;36m<cell line: 1>\u001b[0;34m()\u001b[0m\n\u001b[0;32m----> 1\u001b[0m \u001b[43mWriteStory\u001b[49m\u001b[43m(\u001b[49m\u001b[43m)\u001b[49m\n",
      "Input \u001b[0;32mIn [116]\u001b[0m, in \u001b[0;36mWriteStory\u001b[0;34m()\u001b[0m\n\u001b[1;32m     13\u001b[0m name \u001b[38;5;241m=\u001b[39m RetrieveGender()\n\u001b[1;32m     15\u001b[0m \u001b[38;5;28mprint\u001b[39m(\u001b[38;5;124mf\u001b[39m\u001b[38;5;124m\"\u001b[39m\u001b[38;5;130;01m\\n\u001b[39;00m\u001b[38;5;130;01m\\n\u001b[39;00m\u001b[38;5;124mOkay, then. We\u001b[39m\u001b[38;5;124m'\u001b[39m\u001b[38;5;124mre writing a story about \u001b[39m\u001b[38;5;132;01m{\u001b[39;00mprotagonist \u001b[38;5;241m+\u001b[39m name\u001b[38;5;132;01m}\u001b[39;00m\u001b[38;5;124m.\u001b[39m\u001b[38;5;124m\"\u001b[39m \u001b[38;5;241m+\u001b[39m\n\u001b[1;32m     16\u001b[0m       \u001b[38;5;124m\"\u001b[39m\u001b[38;5;130;01m\\n\u001b[39;00m\u001b[38;5;130;01m\\n\u001b[39;00m\u001b[38;5;124mWhat do you want to tackle now?\u001b[39m\u001b[38;5;130;01m\\n\u001b[39;00m\u001b[38;5;130;01m\\n\u001b[39;00m\u001b[38;5;124m\"\u001b[39m \u001b[38;5;241m+\u001b[39m \n\u001b[1;32m     17\u001b[0m       \u001b[38;5;124m\"\u001b[39m\u001b[38;5;124m(1) The location \u001b[39m\u001b[38;5;130;01m\\n\u001b[39;00m\u001b[38;5;124m(2) The quest \u001b[39m\u001b[38;5;130;01m\\n\u001b[39;00m\u001b[38;5;124m(3) The tools \u001b[39m\u001b[38;5;130;01m\\n\u001b[39;00m\u001b[38;5;124m(4) The lessons learned\u001b[39m\u001b[38;5;124m\"\u001b[39m)\n\u001b[0;32m---> 19\u001b[0m next_move \u001b[38;5;241m=\u001b[39m \u001b[38;5;28;43minput\u001b[39;49m\u001b[43m(\u001b[49m\u001b[38;5;124;43m\"\u001b[39;49m\u001b[38;5;130;43;01m\\n\u001b[39;49;00m\u001b[38;5;130;43;01m\\n\u001b[39;49;00m\u001b[38;5;124;43mSelect one:  \u001b[39;49m\u001b[38;5;124;43m\"\u001b[39;49m\u001b[43m)\u001b[49m\n\u001b[1;32m     21\u001b[0m \u001b[38;5;28;01mreturn\u001b[39;00m\n",
      "File \u001b[0;32m/opt/anaconda3/lib/python3.9/site-packages/ipykernel/kernelbase.py:1075\u001b[0m, in \u001b[0;36mKernel.raw_input\u001b[0;34m(self, prompt)\u001b[0m\n\u001b[1;32m   1071\u001b[0m \u001b[38;5;28;01mif\u001b[39;00m \u001b[38;5;129;01mnot\u001b[39;00m \u001b[38;5;28mself\u001b[39m\u001b[38;5;241m.\u001b[39m_allow_stdin:\n\u001b[1;32m   1072\u001b[0m     \u001b[38;5;28;01mraise\u001b[39;00m StdinNotImplementedError(\n\u001b[1;32m   1073\u001b[0m         \u001b[38;5;124m\"\u001b[39m\u001b[38;5;124mraw_input was called, but this frontend does not support input requests.\u001b[39m\u001b[38;5;124m\"\u001b[39m\n\u001b[1;32m   1074\u001b[0m     )\n\u001b[0;32m-> 1075\u001b[0m \u001b[38;5;28;01mreturn\u001b[39;00m \u001b[38;5;28;43mself\u001b[39;49m\u001b[38;5;241;43m.\u001b[39;49m\u001b[43m_input_request\u001b[49m\u001b[43m(\u001b[49m\n\u001b[1;32m   1076\u001b[0m \u001b[43m    \u001b[49m\u001b[38;5;28;43mstr\u001b[39;49m\u001b[43m(\u001b[49m\u001b[43mprompt\u001b[49m\u001b[43m)\u001b[49m\u001b[43m,\u001b[49m\n\u001b[1;32m   1077\u001b[0m \u001b[43m    \u001b[49m\u001b[38;5;28;43mself\u001b[39;49m\u001b[38;5;241;43m.\u001b[39;49m\u001b[43m_parent_ident\u001b[49m\u001b[43m[\u001b[49m\u001b[38;5;124;43m\"\u001b[39;49m\u001b[38;5;124;43mshell\u001b[39;49m\u001b[38;5;124;43m\"\u001b[39;49m\u001b[43m]\u001b[49m\u001b[43m,\u001b[49m\n\u001b[1;32m   1078\u001b[0m \u001b[43m    \u001b[49m\u001b[38;5;28;43mself\u001b[39;49m\u001b[38;5;241;43m.\u001b[39;49m\u001b[43mget_parent\u001b[49m\u001b[43m(\u001b[49m\u001b[38;5;124;43m\"\u001b[39;49m\u001b[38;5;124;43mshell\u001b[39;49m\u001b[38;5;124;43m\"\u001b[39;49m\u001b[43m)\u001b[49m\u001b[43m,\u001b[49m\n\u001b[1;32m   1079\u001b[0m \u001b[43m    \u001b[49m\u001b[43mpassword\u001b[49m\u001b[38;5;241;43m=\u001b[39;49m\u001b[38;5;28;43;01mFalse\u001b[39;49;00m\u001b[43m,\u001b[49m\n\u001b[1;32m   1080\u001b[0m \u001b[43m\u001b[49m\u001b[43m)\u001b[49m\n",
      "File \u001b[0;32m/opt/anaconda3/lib/python3.9/site-packages/ipykernel/kernelbase.py:1120\u001b[0m, in \u001b[0;36mKernel._input_request\u001b[0;34m(self, prompt, ident, parent, password)\u001b[0m\n\u001b[1;32m   1117\u001b[0m             \u001b[38;5;28;01mbreak\u001b[39;00m\n\u001b[1;32m   1118\u001b[0m \u001b[38;5;28;01mexcept\u001b[39;00m \u001b[38;5;167;01mKeyboardInterrupt\u001b[39;00m:\n\u001b[1;32m   1119\u001b[0m     \u001b[38;5;66;03m# re-raise KeyboardInterrupt, to truncate traceback\u001b[39;00m\n\u001b[0;32m-> 1120\u001b[0m     \u001b[38;5;28;01mraise\u001b[39;00m \u001b[38;5;167;01mKeyboardInterrupt\u001b[39;00m(\u001b[38;5;124m\"\u001b[39m\u001b[38;5;124mInterrupted by user\u001b[39m\u001b[38;5;124m\"\u001b[39m) \u001b[38;5;28;01mfrom\u001b[39;00m \u001b[38;5;28mNone\u001b[39m\n\u001b[1;32m   1121\u001b[0m \u001b[38;5;28;01mexcept\u001b[39;00m \u001b[38;5;167;01mException\u001b[39;00m:\n\u001b[1;32m   1122\u001b[0m     \u001b[38;5;28mself\u001b[39m\u001b[38;5;241m.\u001b[39mlog\u001b[38;5;241m.\u001b[39mwarning(\u001b[38;5;124m\"\u001b[39m\u001b[38;5;124mInvalid Message:\u001b[39m\u001b[38;5;124m\"\u001b[39m, exc_info\u001b[38;5;241m=\u001b[39m\u001b[38;5;28;01mTrue\u001b[39;00m)\n",
      "\u001b[0;31mKeyboardInterrupt\u001b[0m: Interrupted by user"
     ]
    }
   ],
   "source": [
    "WriteStory()"
   ]
  },
  {
   "cell_type": "markdown",
   "id": "125abf44",
   "metadata": {},
   "source": [
    "#### The MVP"
   ]
  },
  {
   "cell_type": "markdown",
   "id": "d739b32a",
   "metadata": {},
   "source": [
    "#### The Future of Tenzing"
   ]
  },
  {
   "cell_type": "code",
   "execution_count": 149,
   "id": "d6a34f9d",
   "metadata": {},
   "outputs": [],
   "source": [
    "response = openai.Completion.create(\n",
    "  model=\"text-davinci-003\",\n",
    "  prompt=\"show me 5 motivations for the protagonist in a documentary story about kayak building. format it as a python list without setting it as a variable\",\n",
    "  temperature=0.9,\n",
    "  max_tokens=3667,\n",
    "  top_p=1,\n",
    "  frequency_penalty=0,\n",
    "  presence_penalty=0\n",
    ")"
   ]
  },
  {
   "cell_type": "code",
   "execution_count": 156,
   "id": "2cc84396",
   "metadata": {},
   "outputs": [],
   "source": [
    "thing = response.choices[0].text.replace(\"\\n\", \"\").strip(\"][]\").split(\", \")"
   ]
  },
  {
   "cell_type": "code",
   "execution_count": 157,
   "id": "5d800a2e",
   "metadata": {},
   "outputs": [
    {
     "data": {
      "text/plain": [
       "[\"'Discovering a connection to their cultural heritage'\",\n",
       " \"'Developing a skill and a craft'\",\n",
       " \"'Get an understanding of how boats were made in ancient times'\",\n",
       " \"'Creating a vessel with their own two hands'\",\n",
       " \"'The feeling of accomplishment after finishing the kayak'\"]"
      ]
     },
     "execution_count": 157,
     "metadata": {},
     "output_type": "execute_result"
    }
   ],
   "source": [
    "thing"
   ]
  },
  {
   "cell_type": "code",
   "execution_count": 125,
   "id": "44b7cda3",
   "metadata": {},
   "outputs": [],
   "source": [
    "drives = response.choices[0].text.replace(\"\\n\",\"\").replace(\"[\", \"\").replace(\"]\", \"\").replace(\"'\",\"\").replace(\"-\", \"\").split(\",\")"
   ]
  },
  {
   "cell_type": "code",
   "execution_count": 126,
   "id": "20c5e4de",
   "metadata": {},
   "outputs": [
    {
     "data": {
      "text/plain": [
       "['1. Wildlife Photographer 2. Geologist 3. Anthropologist 4. Marine Biologist 5. Archaeologist']"
      ]
     },
     "execution_count": 126,
     "metadata": {},
     "output_type": "execute_result"
    }
   ],
   "source": [
    "drives"
   ]
  },
  {
   "cell_type": "code",
   "execution_count": 127,
   "id": "0ea269b4",
   "metadata": {},
   "outputs": [],
   "source": [
    " drive = \"To show the challenges fungal ecologists face in the field and how they overcome them\""
   ]
  },
  {
   "cell_type": "code",
   "execution_count": 134,
   "id": "ef8063ce",
   "metadata": {},
   "outputs": [
    {
     "data": {
      "text/plain": [
       "'Puerto Madryn, Argentina, 1986. National Geographic Explorer. Luján is a documentary photographer and visual storyteller currently based in Tierra del Fuego, Argentina. She explores the Latin American culture and identity with a gender perspective. Through her work she seeks to analyze and push the limits of photographic documentary practice\\n\\nShe is a IWMF Fellow. She was selected for the World Press Photo 6x6 Global Talent Program of South America. She received the Women Photograph + ONA Grant, the Emerging Artist Scholarship of Lucie Foundation, and the CUARTOSCURO/Foundry Scholarship. That year she attended the XXX Eddie Adams Workshop. Her first photobook \"Un montón de Ropa\" (A pile of clothes) was awarded First Prize of the Book Call of Encontros da Imagem (Portugal, 2016). \\n\\nHer work has been exhibited internationally in China, India, Spain, Canada, United States, Mexico, Argentina, Uruguay, and has been published in international media outlets such as National Geographic, The Washington Post, The New York Times - LENS blog, The New York Times en Español, The British Journal of Photography, Vice, de Volkskrant, among others. She is a member of Prime Collective and Ruda Colectiva.\\n\\nSince 2018 she has been part of the Photocamp Program of the National Geographic Society as an editor and instructor.'"
      ]
     },
     "execution_count": 134,
     "metadata": {},
     "output_type": "execute_result"
    }
   ],
   "source": [
    "talent_df.iloc[1][\"Mini Bio\"]"
   ]
  },
  {
   "cell_type": "code",
   "execution_count": 140,
   "id": "6dba3ebb",
   "metadata": {},
   "outputs": [
    {
     "name": "stdout",
     "output_type": "stream",
     "text": [
      "Lynsey Addario:   \n",
      "\n",
      "2/10. While the text does mention a marine biologist, it is not particularly relevant to the search query.\n",
      "\n",
      "\n",
      "Lujan Agusti:  \n",
      "\n",
      "1/10. This text does not relate to a diverse marine biologist.\n",
      "\n",
      "\n",
      "Sue Aikens:  otechnology in marine biology\n",
      "\n",
      "2/10. This text is not particularly relevant to the search 'diverse marine biologist', as it discusses a specialized scientific topic that is unrelated to diversity.\n",
      "\n",
      "\n",
      "Diva Amon:  \n",
      "\n",
      "9/10. The text is highly relevant for the search 'diverse marine biologist' as it describes a Caribbean marine biologist who does deep ocean research and advocacy work. It also highlights several awards she has received.\n",
      "\n",
      "\n",
      "José Andrés:  \n",
      "\n",
      "1/10 This text does not relate to a diverse marine biologist.\n",
      "\n",
      "\n",
      "Darren Aronofsky:  otechnology in marine biology\n",
      "\n",
      "2/10\n",
      "\n",
      "\n",
      "David Blaine:  \n",
      "\n",
      "0/10 This text is not relevant to the search 'diverse marine biologist'.\n",
      "\n",
      "\n",
      "Bobby Bones:   From rock climbing to golfing, from watching stand-up comedy to being an avid snowboarder, Bobby's diverse interests keep him busy and entertained.\n",
      "\n",
      "2/10\n",
      "\n",
      "\n",
      "Andrea Bruce:  \n",
      "\n",
      "2/10 This text does not mention marine biology, diverse marine biologists, or any other related topics.\n",
      "\n",
      "\n",
      "James Cameron:  \n",
      "\n",
      "1/10\n",
      "\n",
      "\n"
     ]
    }
   ],
   "source": [
    "for i in range(10):\n",
    "    \n",
    "    if bio == \"\":\n",
    "        continue\n",
    "        \n",
    "    bio = talent_df.iloc[i][\"Mini Bio\"]\n",
    "    response = openai.Completion.create(model=\"text-davinci-003\",\n",
    "                       temperature=0.8,\n",
    "                       max_tokens=2049,\n",
    "                       prompt=\"rate the relevance of the following text for the search 'diverse marine biologist' out of 10:\\n\\n\" + str(bio))\n",
    "    \n",
    "    print(talent_df.iloc[i][\"Full Name\"] + \":  \" + str(response.choices[0].text) + \"\\n\\n\")"
   ]
  },
  {
   "cell_type": "code",
   "execution_count": 131,
   "id": "e0d3c9e9",
   "metadata": {},
   "outputs": [
    {
     "data": {
      "text/plain": [
       "' it would be an attractive ad for the brands:\\n\\n1. Adidas – To emphasize the importance of overcoming challenges and making a difference.\\n2. Microsoft – To highlight the innovative tools and technology used by fungal ecologists to improve the success of their work.\\n3. North Face – To showcase the outdoor elements of the job, and to emphasize the importance of being prepared to take on challenges.\\n4. Apple – To emphasize the importance of technology and innovation to the work of fungal ecologists.\\n5. Patagonia – To demonstrate the importance of having the right gear and clothing to face the elements of the field.\\n6. National Geographic – To educate viewers on the natural world and the efforts of fungal ecologists to study it and protect it.\\n7. Nature Conservancy – To emphasize the importance of conservation and protection of the natural environment.\\n8. Timberland – To emphasize the importance of having the right gear and clothing to face the outdoor elements.\\n9. IBM – To showcase the importance of data and analytics in the work of fungal ecologists.\\n10. Amazon – To emphasize the importance of having the right tools and resources to complete the work of fungal ecologists.'"
      ]
     },
     "execution_count": 131,
     "metadata": {},
     "output_type": "execute_result"
    }
   ],
   "source": [
    "response.choices[0].text"
   ]
  },
  {
   "cell_type": "code",
   "execution_count": null,
   "id": "0bb93438",
   "metadata": {},
   "outputs": [],
   "source": []
  }
 ],
 "metadata": {
  "kernelspec": {
   "display_name": "Python 3 (ipykernel)",
   "language": "python",
   "name": "python3"
  },
  "language_info": {
   "codemirror_mode": {
    "name": "ipython",
    "version": 3
   },
   "file_extension": ".py",
   "mimetype": "text/x-python",
   "name": "python",
   "nbconvert_exporter": "python",
   "pygments_lexer": "ipython3",
   "version": "3.9.12"
  }
 },
 "nbformat": 4,
 "nbformat_minor": 5
}
