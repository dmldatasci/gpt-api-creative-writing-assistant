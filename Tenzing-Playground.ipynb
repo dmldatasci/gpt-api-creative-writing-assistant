{
 "cells": [
  {
   "cell_type": "markdown",
   "id": "107e6652",
   "metadata": {},
   "source": [
    "<div>\n",
    "<img src=\"NGCreativeWorks_horizontal.png\" width=\"400\"/>\n",
    "</div>"
   ]
  },
  {
   "cell_type": "markdown",
   "id": "67b3bf00",
   "metadata": {},
   "source": [
    "## The Tenzing Wireframe"
   ]
  },
  {
   "cell_type": "markdown",
   "id": "d72e8a35",
   "metadata": {},
   "source": [
    "#### Mission Statement\n",
    "This product is designed to assist creative writing professionals in their efforts to craft narratives for branded content that feel authentic to the National Geographic brand. The aim of this application is to provide creatives with a unique tool that understands the creative writing process in the context of an ad sales environment. It should be able to flexibly take input from users and provide suggestions where necessary, thereby facilitating the development of narrative storytelling without forcing the user into a box."
   ]
  },
  {
   "cell_type": "markdown",
   "id": "0f989d11",
   "metadata": {},
   "source": [
    "#### Critical Prep Work"
   ]
  },
  {
   "cell_type": "code",
   "execution_count": 1,
   "id": "3944d463",
   "metadata": {},
   "outputs": [],
   "source": [
    "# load dependencies\n",
    "import os\n",
    "import pandas as pd\n",
    "import random\n",
    "import openai\n",
    "\n",
    "# turn off warnings\n",
    "import warnings\n",
    "warnings.filterwarnings('ignore')"
   ]
  },
  {
   "cell_type": "code",
   "execution_count": 2,
   "id": "44db0db7",
   "metadata": {},
   "outputs": [],
   "source": [
    "from dotenv import load_dotenv\n",
    "load_dotenv()\n",
    "\n",
    "openai.organization = \"National Geographic\"\n",
    "openai.api_key = os.environ.get('OPENAI_API_KEY')"
   ]
  },
  {
   "cell_type": "code",
   "execution_count": 3,
   "id": "da77be22",
   "metadata": {},
   "outputs": [
    {
     "ename": "AuthenticationError",
     "evalue": "No such organization: National Geographic.",
     "output_type": "error",
     "traceback": [
      "\u001b[0;31m---------------------------------------------------------------------------\u001b[0m",
      "\u001b[0;31mAuthenticationError\u001b[0m                       Traceback (most recent call last)",
      "Input \u001b[0;32mIn [3]\u001b[0m, in \u001b[0;36m<cell line: 1>\u001b[0;34m()\u001b[0m\n\u001b[0;32m----> 1\u001b[0m \u001b[43mopenai\u001b[49m\u001b[38;5;241;43m.\u001b[39;49m\u001b[43mModel\u001b[49m\u001b[38;5;241;43m.\u001b[39;49m\u001b[43mlist\u001b[49m\u001b[43m(\u001b[49m\u001b[43m)\u001b[49m\n",
      "File \u001b[0;32m/opt/anaconda3/lib/python3.9/site-packages/openai/api_resources/abstract/listable_api_resource.py:40\u001b[0m, in \u001b[0;36mListableAPIResource.list\u001b[0;34m(cls, api_key, request_id, api_version, organization, api_base, api_type, **params)\u001b[0m\n\u001b[1;32m     37\u001b[0m \u001b[38;5;28;01melse\u001b[39;00m:\n\u001b[1;32m     38\u001b[0m     \u001b[38;5;28;01mraise\u001b[39;00m error\u001b[38;5;241m.\u001b[39mInvalidAPIType(\u001b[38;5;124m'\u001b[39m\u001b[38;5;124mUnsupported API type \u001b[39m\u001b[38;5;132;01m%s\u001b[39;00m\u001b[38;5;124m'\u001b[39m \u001b[38;5;241m%\u001b[39m api_type)            \n\u001b[0;32m---> 40\u001b[0m response, _, api_key \u001b[38;5;241m=\u001b[39m \u001b[43mrequestor\u001b[49m\u001b[38;5;241;43m.\u001b[39;49m\u001b[43mrequest\u001b[49m\u001b[43m(\u001b[49m\n\u001b[1;32m     41\u001b[0m \u001b[43m    \u001b[49m\u001b[38;5;124;43m\"\u001b[39;49m\u001b[38;5;124;43mget\u001b[39;49m\u001b[38;5;124;43m\"\u001b[39;49m\u001b[43m,\u001b[49m\u001b[43m \u001b[49m\u001b[43murl\u001b[49m\u001b[43m,\u001b[49m\u001b[43m \u001b[49m\u001b[43mparams\u001b[49m\u001b[43m,\u001b[49m\u001b[43m \u001b[49m\u001b[43mrequest_id\u001b[49m\u001b[38;5;241;43m=\u001b[39;49m\u001b[43mrequest_id\u001b[49m\n\u001b[1;32m     42\u001b[0m \u001b[43m\u001b[49m\u001b[43m)\u001b[49m\n\u001b[1;32m     43\u001b[0m openai_object \u001b[38;5;241m=\u001b[39m util\u001b[38;5;241m.\u001b[39mconvert_to_openai_object(\n\u001b[1;32m     44\u001b[0m     response, api_key, api_version, organization\n\u001b[1;32m     45\u001b[0m )\n\u001b[1;32m     46\u001b[0m openai_object\u001b[38;5;241m.\u001b[39m_retrieve_params \u001b[38;5;241m=\u001b[39m params\n",
      "File \u001b[0;32m/opt/anaconda3/lib/python3.9/site-packages/openai/api_requestor.py:122\u001b[0m, in \u001b[0;36mAPIRequestor.request\u001b[0;34m(self, method, url, params, headers, files, stream, request_id)\u001b[0m\n\u001b[1;32m    103\u001b[0m \u001b[38;5;28;01mdef\u001b[39;00m \u001b[38;5;21mrequest\u001b[39m(\n\u001b[1;32m    104\u001b[0m     \u001b[38;5;28mself\u001b[39m,\n\u001b[1;32m    105\u001b[0m     method,\n\u001b[0;32m   (...)\u001b[0m\n\u001b[1;32m    111\u001b[0m     request_id: Optional[\u001b[38;5;28mstr\u001b[39m] \u001b[38;5;241m=\u001b[39m \u001b[38;5;28;01mNone\u001b[39;00m,\n\u001b[1;32m    112\u001b[0m ) \u001b[38;5;241m-\u001b[39m\u001b[38;5;241m>\u001b[39m Tuple[Union[OpenAIResponse, Iterator[OpenAIResponse]], \u001b[38;5;28mbool\u001b[39m, \u001b[38;5;28mstr\u001b[39m]:\n\u001b[1;32m    113\u001b[0m     result \u001b[38;5;241m=\u001b[39m \u001b[38;5;28mself\u001b[39m\u001b[38;5;241m.\u001b[39mrequest_raw(\n\u001b[1;32m    114\u001b[0m         method\u001b[38;5;241m.\u001b[39mlower(),\n\u001b[1;32m    115\u001b[0m         url,\n\u001b[0;32m   (...)\u001b[0m\n\u001b[1;32m    120\u001b[0m         request_id\u001b[38;5;241m=\u001b[39mrequest_id,\n\u001b[1;32m    121\u001b[0m     )\n\u001b[0;32m--> 122\u001b[0m     resp, got_stream \u001b[38;5;241m=\u001b[39m \u001b[38;5;28;43mself\u001b[39;49m\u001b[38;5;241;43m.\u001b[39;49m\u001b[43m_interpret_response\u001b[49m\u001b[43m(\u001b[49m\u001b[43mresult\u001b[49m\u001b[43m,\u001b[49m\u001b[43m \u001b[49m\u001b[43mstream\u001b[49m\u001b[43m)\u001b[49m\n\u001b[1;32m    123\u001b[0m     \u001b[38;5;28;01mreturn\u001b[39;00m resp, got_stream, \u001b[38;5;28mself\u001b[39m\u001b[38;5;241m.\u001b[39mapi_key\n",
      "File \u001b[0;32m/opt/anaconda3/lib/python3.9/site-packages/openai/api_requestor.py:329\u001b[0m, in \u001b[0;36mAPIRequestor._interpret_response\u001b[0;34m(self, result, stream)\u001b[0m\n\u001b[1;32m    321\u001b[0m     \u001b[38;5;28;01mreturn\u001b[39;00m (\n\u001b[1;32m    322\u001b[0m         \u001b[38;5;28mself\u001b[39m\u001b[38;5;241m.\u001b[39m_interpret_response_line(\n\u001b[1;32m    323\u001b[0m             line, result\u001b[38;5;241m.\u001b[39mstatus_code, result\u001b[38;5;241m.\u001b[39mheaders, stream\u001b[38;5;241m=\u001b[39m\u001b[38;5;28;01mTrue\u001b[39;00m\n\u001b[1;32m    324\u001b[0m         )\n\u001b[1;32m    325\u001b[0m         \u001b[38;5;28;01mfor\u001b[39;00m line \u001b[38;5;129;01min\u001b[39;00m parse_stream(result\u001b[38;5;241m.\u001b[39miter_lines())\n\u001b[1;32m    326\u001b[0m     ), \u001b[38;5;28;01mTrue\u001b[39;00m\n\u001b[1;32m    327\u001b[0m \u001b[38;5;28;01melse\u001b[39;00m:\n\u001b[1;32m    328\u001b[0m     \u001b[38;5;28;01mreturn\u001b[39;00m (\n\u001b[0;32m--> 329\u001b[0m         \u001b[38;5;28;43mself\u001b[39;49m\u001b[38;5;241;43m.\u001b[39;49m\u001b[43m_interpret_response_line\u001b[49m\u001b[43m(\u001b[49m\n\u001b[1;32m    330\u001b[0m \u001b[43m            \u001b[49m\u001b[43mresult\u001b[49m\u001b[38;5;241;43m.\u001b[39;49m\u001b[43mcontent\u001b[49m\u001b[43m,\u001b[49m\u001b[43m \u001b[49m\u001b[43mresult\u001b[49m\u001b[38;5;241;43m.\u001b[39;49m\u001b[43mstatus_code\u001b[49m\u001b[43m,\u001b[49m\u001b[43m \u001b[49m\u001b[43mresult\u001b[49m\u001b[38;5;241;43m.\u001b[39;49m\u001b[43mheaders\u001b[49m\u001b[43m,\u001b[49m\u001b[43m \u001b[49m\u001b[43mstream\u001b[49m\u001b[38;5;241;43m=\u001b[39;49m\u001b[38;5;28;43;01mFalse\u001b[39;49;00m\n\u001b[1;32m    331\u001b[0m \u001b[43m        \u001b[49m\u001b[43m)\u001b[49m,\n\u001b[1;32m    332\u001b[0m         \u001b[38;5;28;01mFalse\u001b[39;00m,\n\u001b[1;32m    333\u001b[0m     )\n",
      "File \u001b[0;32m/opt/anaconda3/lib/python3.9/site-packages/openai/api_requestor.py:362\u001b[0m, in \u001b[0;36mAPIRequestor._interpret_response_line\u001b[0;34m(self, rbody, rcode, rheaders, stream)\u001b[0m\n\u001b[1;32m    360\u001b[0m stream_error \u001b[38;5;241m=\u001b[39m stream \u001b[38;5;129;01mand\u001b[39;00m \u001b[38;5;124m\"\u001b[39m\u001b[38;5;124merror\u001b[39m\u001b[38;5;124m\"\u001b[39m \u001b[38;5;129;01min\u001b[39;00m resp\u001b[38;5;241m.\u001b[39mdata\n\u001b[1;32m    361\u001b[0m \u001b[38;5;28;01mif\u001b[39;00m stream_error \u001b[38;5;129;01mor\u001b[39;00m \u001b[38;5;129;01mnot\u001b[39;00m \u001b[38;5;241m200\u001b[39m \u001b[38;5;241m<\u001b[39m\u001b[38;5;241m=\u001b[39m rcode \u001b[38;5;241m<\u001b[39m \u001b[38;5;241m300\u001b[39m:\n\u001b[0;32m--> 362\u001b[0m     \u001b[38;5;28;01mraise\u001b[39;00m \u001b[38;5;28mself\u001b[39m\u001b[38;5;241m.\u001b[39mhandle_error_response(\n\u001b[1;32m    363\u001b[0m         rbody, rcode, resp\u001b[38;5;241m.\u001b[39mdata, rheaders, stream_error\u001b[38;5;241m=\u001b[39mstream_error\n\u001b[1;32m    364\u001b[0m     )\n\u001b[1;32m    365\u001b[0m \u001b[38;5;28;01mreturn\u001b[39;00m resp\n",
      "\u001b[0;31mAuthenticationError\u001b[0m: No such organization: National Geographic."
     ]
    }
   ],
   "source": [
    "openai.Model.list()"
   ]
  },
  {
   "cell_type": "code",
   "execution_count": 7,
   "id": "c0e1f528",
   "metadata": {},
   "outputs": [
    {
     "data": {
      "text/plain": [
       "{'__CFBundleIdentifier': 'com.apple.Terminal',\n",
       " 'TMPDIR': '/var/folders/m6/5m5yr4vx1hnfwqqw70nydyqr0000gn/T/',\n",
       " 'XPC_FLAGS': '0x0',\n",
       " 'TERM': 'xterm-color',\n",
       " 'SSH_AUTH_SOCK': '/private/tmp/com.apple.launchd.9fFLsvi595/Listeners',\n",
       " 'XPC_SERVICE_NAME': '0',\n",
       " 'TERM_PROGRAM': 'Apple_Terminal',\n",
       " 'TERM_PROGRAM_VERSION': '447',\n",
       " 'TERM_SESSION_ID': '5FA74607-436C-4EE1-BF52-B5FB97946DFE',\n",
       " 'SHELL': '/bin/zsh',\n",
       " 'HOME': '/Users/davidlevy',\n",
       " 'LOGNAME': 'davidlevy',\n",
       " 'USER': 'davidlevy',\n",
       " 'PATH': '/Users/davidlevy/Desktop/google-cloud-sdk/bin:/opt/anaconda3/bin:/opt/anaconda3/condabin:/usr/local/bin:/System/Cryptexes/App/usr/bin:/usr/bin:/bin:/usr/sbin:/sbin',\n",
       " 'SHLVL': '1',\n",
       " 'PWD': '/Users/davidlevy/Desktop/Professional/Nat Geo/Tenzing/tenzing9000/gpt-api-creative-writing-assistant',\n",
       " 'OLDPWD': '/Users/davidlevy/Desktop/Professional/Nat Geo/Tenzing/tenzing9000',\n",
       " 'CONDA_EXE': '/opt/anaconda3/bin/conda',\n",
       " '_CE_M': '',\n",
       " '_CE_CONDA': '',\n",
       " 'CONDA_PYTHON_EXE': '/opt/anaconda3/bin/python',\n",
       " 'CONDA_SHLVL': '1',\n",
       " 'CONDA_PREFIX': '/opt/anaconda3',\n",
       " 'CONDA_DEFAULT_ENV': 'base',\n",
       " 'CONDA_PROMPT_MODIFIER': '(base) ',\n",
       " 'LANG': 'en_US.UTF-8',\n",
       " '_': '/opt/anaconda3/bin/jupyter',\n",
       " '__CF_USER_TEXT_ENCODING': '0x1F5:0x0:0x0',\n",
       " 'PYDEVD_USE_FRAME_EVAL': 'NO',\n",
       " 'JPY_PARENT_PID': '20334',\n",
       " 'CLICOLOR': '1',\n",
       " 'PAGER': 'cat',\n",
       " 'GIT_PAGER': 'cat',\n",
       " 'MPLBACKEND': 'module://matplotlib_inline.backend_inline'}"
      ]
     },
     "execution_count": 7,
     "metadata": {},
     "output_type": "execute_result"
    }
   ],
   "source": [
    "%env"
   ]
  },
  {
   "cell_type": "code",
   "execution_count": 125,
   "id": "6a2dd93e",
   "metadata": {},
   "outputs": [],
   "source": [
    "# prepare the OpenAI APIconnection\n",
    "openai.api_key = \"\" #insert openai key\n",
    "\n",
    "# set the creativity parameter to 0.8 globally based on personal experience\n",
    "temp = 0.8"
   ]
  },
  {
   "cell_type": "code",
   "execution_count": 126,
   "id": "37777c95",
   "metadata": {},
   "outputs": [
    {
     "data": {
      "text/html": [
       "<div>\n",
       "<style scoped>\n",
       "    .dataframe tbody tr th:only-of-type {\n",
       "        vertical-align: middle;\n",
       "    }\n",
       "\n",
       "    .dataframe tbody tr th {\n",
       "        vertical-align: top;\n",
       "    }\n",
       "\n",
       "    .dataframe thead th {\n",
       "        text-align: right;\n",
       "    }\n",
       "</style>\n",
       "<table border=\"1\" class=\"dataframe\">\n",
       "  <thead>\n",
       "    <tr style=\"text-align: right;\">\n",
       "      <th></th>\n",
       "      <th>First Name</th>\n",
       "      <th>Last Name</th>\n",
       "      <th>National Geographic Titles</th>\n",
       "      <th>Residential Country</th>\n",
       "      <th>Professions</th>\n",
       "      <th>Specialities</th>\n",
       "      <th>Photography Skills</th>\n",
       "      <th>Brand Preferences</th>\n",
       "      <th>Brand Affiliation</th>\n",
       "      <th>Mini Bio</th>\n",
       "      <th>Hobbies</th>\n",
       "      <th>Charity Interests</th>\n",
       "      <th>Instagram</th>\n",
       "      <th>Website</th>\n",
       "      <th>Photography Genres</th>\n",
       "      <th>Full Name</th>\n",
       "    </tr>\n",
       "  </thead>\n",
       "  <tbody>\n",
       "    <tr>\n",
       "      <th>0</th>\n",
       "      <td>Lynsey</td>\n",
       "      <td>Addario</td>\n",
       "      <td>Explorer &amp; Photographer</td>\n",
       "      <td>United States</td>\n",
       "      <td>Photographer</td>\n",
       "      <td>NaN</td>\n",
       "      <td>NaN</td>\n",
       "      <td>NaN</td>\n",
       "      <td>NaN</td>\n",
       "      <td>Lynsey Addario is a photojournalist based in L...</td>\n",
       "      <td>NaN</td>\n",
       "      <td>NaN</td>\n",
       "      <td>https://www.instagram.com/lynseyaddario/</td>\n",
       "      <td>https://www.lynseyaddario.com</td>\n",
       "      <td>NaN</td>\n",
       "      <td>Lynsey Addario</td>\n",
       "    </tr>\n",
       "    <tr>\n",
       "      <th>1</th>\n",
       "      <td>Lujan</td>\n",
       "      <td>Agusti</td>\n",
       "      <td>Explorer &amp; Photographer</td>\n",
       "      <td>NaN</td>\n",
       "      <td>Photographer</td>\n",
       "      <td>NaN</td>\n",
       "      <td>NaN</td>\n",
       "      <td>NaN</td>\n",
       "      <td>NaN</td>\n",
       "      <td>Puerto Madryn, Argentina, 1986. National Geogr...</td>\n",
       "      <td>NaN</td>\n",
       "      <td>NaN</td>\n",
       "      <td>https://www.instagram.com/lujanag/?hl=en</td>\n",
       "      <td>https://www.lujanagusti.com/</td>\n",
       "      <td>NaN</td>\n",
       "      <td>Lujan Agusti</td>\n",
       "    </tr>\n",
       "    <tr>\n",
       "      <th>2</th>\n",
       "      <td>Sue</td>\n",
       "      <td>Aikens</td>\n",
       "      <td>NaN</td>\n",
       "      <td>NaN</td>\n",
       "      <td>NaN</td>\n",
       "      <td>NaN</td>\n",
       "      <td>NaN</td>\n",
       "      <td>NaN</td>\n",
       "      <td>NaN</td>\n",
       "      <td>NaN</td>\n",
       "      <td>NaN</td>\n",
       "      <td>NaN</td>\n",
       "      <td>https://www.instagram.com/sueaikens</td>\n",
       "      <td>https://www.kavikrivercamp.com/</td>\n",
       "      <td>NaN</td>\n",
       "      <td>Sue Aikens</td>\n",
       "    </tr>\n",
       "    <tr>\n",
       "      <th>3</th>\n",
       "      <td>Diva</td>\n",
       "      <td>Amon</td>\n",
       "      <td>Explorer</td>\n",
       "      <td>Trinidad and Tobago</td>\n",
       "      <td>Conservationist,  Ecologist,  Marine Biologist...</td>\n",
       "      <td>Especially open-ocean and deep-sea biology</td>\n",
       "      <td>NaN</td>\n",
       "      <td>Anything ocean-related or environment-related</td>\n",
       "      <td>No</td>\n",
       "      <td>Dr. Diva Amon is a Caribbean marine biologist ...</td>\n",
       "      <td>I'm a complete water baby - scuba diving, snor...</td>\n",
       "      <td>SpeSeas (Trinbagonian management and usage of ...</td>\n",
       "      <td>https://www.instagram.com/diva_amon/</td>\n",
       "      <td>https://divaamon.com/</td>\n",
       "      <td>NaN</td>\n",
       "      <td>Diva Amon</td>\n",
       "    </tr>\n",
       "  </tbody>\n",
       "</table>\n",
       "</div>"
      ],
      "text/plain": [
       "  First Name Last Name National Geographic Titles  Residential Country  \\\n",
       "0     Lynsey   Addario    Explorer & Photographer        United States   \n",
       "1      Lujan    Agusti    Explorer & Photographer                  NaN   \n",
       "2        Sue    Aikens                        NaN                  NaN   \n",
       "3       Diva      Amon                   Explorer  Trinidad and Tobago   \n",
       "\n",
       "                                         Professions  \\\n",
       "0                                       Photographer   \n",
       "1                                       Photographer   \n",
       "2                                                NaN   \n",
       "3  Conservationist,  Ecologist,  Marine Biologist...   \n",
       "\n",
       "                                 Specialities Photography Skills  \\\n",
       "0                                         NaN                NaN   \n",
       "1                                         NaN                NaN   \n",
       "2                                         NaN                NaN   \n",
       "3  Especially open-ocean and deep-sea biology                NaN   \n",
       "\n",
       "                               Brand Preferences Brand Affiliation  \\\n",
       "0                                            NaN               NaN   \n",
       "1                                            NaN               NaN   \n",
       "2                                            NaN               NaN   \n",
       "3  Anything ocean-related or environment-related                No   \n",
       "\n",
       "                                            Mini Bio  \\\n",
       "0  Lynsey Addario is a photojournalist based in L...   \n",
       "1  Puerto Madryn, Argentina, 1986. National Geogr...   \n",
       "2                                                NaN   \n",
       "3  Dr. Diva Amon is a Caribbean marine biologist ...   \n",
       "\n",
       "                                             Hobbies  \\\n",
       "0                                                NaN   \n",
       "1                                                NaN   \n",
       "2                                                NaN   \n",
       "3  I'm a complete water baby - scuba diving, snor...   \n",
       "\n",
       "                                   Charity Interests  \\\n",
       "0                                                NaN   \n",
       "1                                                NaN   \n",
       "2                                                NaN   \n",
       "3  SpeSeas (Trinbagonian management and usage of ...   \n",
       "\n",
       "                                  Instagram                          Website  \\\n",
       "0  https://www.instagram.com/lynseyaddario/    https://www.lynseyaddario.com   \n",
       "1  https://www.instagram.com/lujanag/?hl=en     https://www.lujanagusti.com/   \n",
       "2       https://www.instagram.com/sueaikens  https://www.kavikrivercamp.com/   \n",
       "3      https://www.instagram.com/diva_amon/            https://divaamon.com/   \n",
       "\n",
       "  Photography Genres       Full Name  \n",
       "0                NaN  Lynsey Addario  \n",
       "1                NaN    Lujan Agusti  \n",
       "2                NaN      Sue Aikens  \n",
       "3                NaN       Diva Amon  "
      ]
     },
     "execution_count": 126,
     "metadata": {},
     "output_type": "execute_result"
    }
   ],
   "source": [
    "# load the priority talent roster dataset\n",
    "filepath = \"talent_resources/priority_roster_012323.csv\"\n",
    "talent_df = pd.read_csv(filepath,encoding=\"ISO-8859-1\")\n",
    "\n",
    "# clean the name fields by removing `?` chracters\n",
    "talent_df[\"First Name\"] = talent_df[\"First Name\"].str.replace(\"?\", \"\")\n",
    "talent_df[\"Last Name\"] = talent_df[\"Last Name\"].str.replace(\"?\", \"\")\n",
    "\n",
    "# clean the Professions and Photography Skills fields by removing semi-colons\n",
    "talent_df[\"Professions\"] = talent_df[\"Professions\"].str.replace(\";\", \", \")\n",
    "talent_df[\"Photography Skills\"] = talent_df[\"Photography Skills\"].str.replace(\";\", \", \")\n",
    "\n",
    "# add a full name column\n",
    "talent_df[\"Full Name\"] = talent_df[\"First Name\"] + \" \" + talent_df[\"Last Name\"]\n",
    "\n",
    "# visualize the dataframe\n",
    "talent_df.head(4)"
   ]
  },
  {
   "cell_type": "code",
   "execution_count": 127,
   "id": "554a1294",
   "metadata": {},
   "outputs": [
    {
     "data": {
      "text/plain": [
       "['Prasenjeet Yadav',\n",
       " 'Bethany Mollenkof',\n",
       " 'John Stanmeyer',\n",
       " 'Kiliii Yüyan',\n",
       " 'Chris Hemsworth',\n",
       " 'Bertie Gregory',\n",
       " 'Jan Pol',\n",
       " 'Lujan Agusti',\n",
       " 'Will Smith',\n",
       " 'Jared Soares']"
      ]
     },
     "execution_count": 127,
     "metadata": {},
     "output_type": "execute_result"
    }
   ],
   "source": [
    "# run a quick test to ensure we can comfortably grab random talent as needed\n",
    "random.sample(sorted(talent_df[\"Full Name\"]), 10)"
   ]
  },
  {
   "cell_type": "markdown",
   "id": "5b88b79a",
   "metadata": {},
   "source": [
    "For demo purposes, we begin with five critical components of any story that will eventually become video content on National Geographic platforms:"
   ]
  },
  {
   "cell_type": "markdown",
   "id": "edc37df3",
   "metadata": {},
   "source": [
    "* **Protagonist**\n",
    "    * Who is our hero and what do we know about them?"
   ]
  },
  {
   "cell_type": "markdown",
   "id": "16d674e3",
   "metadata": {},
   "source": [
    "* **Action**\n",
    "    * What is our protagonist doing?"
   ]
  },
  {
   "cell_type": "markdown",
   "id": "a08b76fd",
   "metadata": {},
   "source": [
    "* **Quest**\n",
    "    * What is our protagonist trying to achieve, and how does their journey echo the themes of the story?"
   ]
  },
  {
   "cell_type": "markdown",
   "id": "a75edf0f",
   "metadata": {},
   "source": [
    "* **Location**\n",
    "    * Where in the world is our protagonist, and how does that location support the story of their journey?"
   ]
  },
  {
   "cell_type": "markdown",
   "id": "eb2dda82",
   "metadata": {},
   "source": [
    "* **Tools**\n",
    "    * What tools does our protagonist need in order to help them achieve their goal? How do those tools aid the protagonist on their path to victory?"
   ]
  },
  {
   "cell_type": "code",
   "execution_count": 112,
   "id": "4db2adfb",
   "metadata": {},
   "outputs": [],
   "source": [
    "# what ideas about a protagonist might the user bring with them to the table?\n",
    "protagonist_options = {1 : \"Generic Explorer\",\n",
    "                       2 : \"Generic Photographer\",\n",
    "                       3 : \"Specific talent\",\n",
    "                       4 : \"I need suggestions\"}\n",
    "\n",
    "# action should be a fairly free-form input, so we'll leave it more open-ended\n",
    "action_options = {1 : \"I have some action in mind\",\n",
    "                  2 : \"I need suggestions\"}\n",
    "\n",
    "# the quest can come from the brief, it could be an idea in the writer's head,\n",
    "# or it could come from the talent profile\n",
    "quest_options = {1 : \"I have a quest idea to guide the protagonist\",\n",
    "                 2 : \"I need suggestions\"}\n",
    "\n",
    "# location can also be somewhat open-ended, but might rely on the action and the quest\n",
    "location_options = {1 : \"I have a location in mind\",\n",
    "                    2 : \"I need suggestions\"}\n",
    "\n",
    "# tools are either coming specifically from the brief or they could be fitted into the story ad hoc\n",
    "tool_options = {1 : \"I am writing to a brief and have a specific brand/product to incorporate\",\n",
    "                2 : \"This is proactive, so it would be great to see some product integration suggestions\"}"
   ]
  },
  {
   "cell_type": "markdown",
   "id": "98621eaa",
   "metadata": {},
   "source": [
    "The general ideas is that at each step, we'll use the information we have to retrieve the best possible output from the OpenAI API. To make that happen, we need to split all of our steps into discrete functions that can handle user input and understand where in the writing process we are. This is the most complicated piece, and it will likely take a large number of iterations to get it right. But we have to start somewhere!"
   ]
  },
  {
   "cell_type": "code",
   "execution_count": 113,
   "id": "27717681",
   "metadata": {},
   "outputs": [],
   "source": [
    "# a function that takes user input and handles \n",
    "def RetrieveProtagonist(user_input):\n",
    "    \n",
    "    if user_input == \"1\":\n",
    "        \n",
    "        profession_options = {1 : \"I have an idea\",\n",
    "                              2 : \"It's not important\",\n",
    "                              3 : \"I need suggestions\"}\n",
    "        \n",
    "        print(\"\\n\\nGreat, we'll just reference a generic Nat Geo Explorer.\", \n",
    "              \"\\nDo you have an idea of what this Explorer's profession is?\\n\")\n",
    "        \n",
    "        for opt in profession_options:\n",
    "            print(\"(\" + str(opt) + \")\" + \" \" + profession_options[opt])\n",
    "            \n",
    "        prof_pick = input(\"\\nSelect an option:  \")\n",
    "        \n",
    "        profession = RetrieveProfession(prof_pick)\n",
    "        protagonist = \"National Geographic Explorer\" + profession\n",
    "        \n",
    "    elif user_input == \"2\":\n",
    "        specialty_options = {1 : \"I have an idea\",\n",
    "                             2 : \"It's not important\",\n",
    "                             3 : \"I need suggestions\"}\n",
    "        \n",
    "        print(\"\\n\\nGreat, we'll just reference a generic Nat Geo Photographer.\", \n",
    "              \"\\nDo you have an idea of what this Photographer's specialty is?\\n\")\n",
    "        \n",
    "        for opt in profession_options:\n",
    "            print(\"(\" + str(opt) + \")\" + \" \" + profession_options[opt])\n",
    "            \n",
    "        spec_pick = input(\"\\nSelect an option: \")\n",
    "        \n",
    "        specialty = RetrieveSpecialty(spec_pick)\n",
    "        specialty = \"whose work with \" + specialty # + short AI-generated phrase about audience impact\n",
    "        \n",
    "    elif user_input == \"3\":\n",
    "        pass\n",
    "        \n",
    "    elif user_input == \"4\":\n",
    "        pass\n",
    "        \n",
    "    else:\n",
    "        return False\n",
    "    \n",
    "    return protagonist"
   ]
  },
  {
   "cell_type": "code",
   "execution_count": 114,
   "id": "78f28a1c",
   "metadata": {},
   "outputs": [],
   "source": [
    "# a function that returns text containing profession information based on user input passed as an argument\n",
    "def RetrieveProfession(user_input):\n",
    "    \n",
    "    if user_input == \"1\":\n",
    "        \n",
    "        prof = input(\"\\n\\nWonderful, what's their job?  \")\n",
    "        # code to ask GPT to turn this into a job title\n",
    "        prof = \" and \" + prof\n",
    "    \n",
    "    elif user_input == \"2\":\n",
    "        \n",
    "        prof = \"\"\n",
    "    \n",
    "    elif user_input == \"3\":\n",
    "        # logic to print out a few random ideas from the profession list\n",
    "        prof = \" and marine biologist\"\n",
    "    \n",
    "    else:\n",
    "        return False\n",
    "    \n",
    "    return prof"
   ]
  },
  {
   "cell_type": "code",
   "execution_count": 115,
   "id": "39955262",
   "metadata": {},
   "outputs": [],
   "source": [
    "# a function that returns a generic woman's, man's or unisex name based on user input\n",
    "def RetrieveGender():\n",
    "    \n",
    "    gender = input(\"Is gender critical to the story?\\n\\n\" + \n",
    "                   \"(1) Female \\n(2) Male \\n(3) It doesn't matter\" +\n",
    "                  \"\\n\\nSelect one:  \")\n",
    "    \n",
    "    if gender == \"1\":\n",
    "        name = \", Jane Doe\"\n",
    "        \n",
    "    elif gender == \"2\":\n",
    "        name = \", John Doe\"\n",
    "        \n",
    "    else:\n",
    "        name = \", Bryce Doe\"\n",
    "    \n",
    "    return name"
   ]
  },
  {
   "cell_type": "code",
   "execution_count": 116,
   "id": "af932c33",
   "metadata": {},
   "outputs": [],
   "source": [
    "def WriteStory():\n",
    "    \n",
    "    # initiate protagonist sequence\n",
    "    \n",
    "    print(\"Tell me about the hero of your story: \\n\")\n",
    "    \n",
    "    for opt in protagonist_options:\n",
    "        print(\"(\" + str(opt) + \")\" + \" \" + protagonist_options[opt])\n",
    "        \n",
    "    prot_pick = input(\"\\nSelect an option from the menu above:  \")\n",
    "    \n",
    "    protagonist = RetrieveProtagonist(prot_pick)\n",
    "    name = RetrieveGender()\n",
    "    \n",
    "    print(f\"\\n\\nOkay, then. We're writing a story about {protagonist + name}.\" +\n",
    "          \"\\n\\nWhat do you want to tackle now?\\n\\n\" + \n",
    "          \"(1) The location \\n(2) The quest \\n(3) The tools \\n(4) The lessons learned\")\n",
    "    \n",
    "    next_move = input(\"\\n\\nSelect one:  \")\n",
    "    \n",
    "    return "
   ]
  },
  {
   "cell_type": "markdown",
   "id": "00db8189",
   "metadata": {},
   "source": [
    "#### The Demo"
   ]
  },
  {
   "cell_type": "code",
   "execution_count": 119,
   "id": "2fa3267e",
   "metadata": {},
   "outputs": [
    {
     "name": "stdout",
     "output_type": "stream",
     "text": [
      "Tell me about the hero of your story: \n",
      "\n",
      "(1) Generic Explorer\n",
      "(2) Generic Photographer\n",
      "(3) Specific talent\n",
      "(4) I need suggestions\n",
      "\n",
      "Select an option from the menu above:  1\n",
      "\n",
      "\n",
      "Great, we'll just reference a generic Nat Geo Explorer. \n",
      "Do you have an idea of what this Explorer's profession is?\n",
      "\n",
      "(1) I have an idea\n",
      "(2) It's not important\n",
      "(3) I need suggestions\n",
      "\n",
      "Select an option:  1\n",
      "\n",
      "\n",
      "Wonderful, what's their job?  cave diver\n",
      "Is gender critical to the story?\n",
      "\n",
      "(1) Female \n",
      "(2) Male \n",
      "(3) It doesn't matter\n",
      "\n",
      "Select one:  1\\\n",
      "\n",
      "\n",
      "Okay, then. We're writing a story about National Geographic Explorer and cave diver, Bryce Doe.\n",
      "\n",
      "What do you want to tackle now?\n",
      "\n",
      "(1) The location \n",
      "(2) The quest \n",
      "(3) The tools \n",
      "(4) The lessons learned\n"
     ]
    },
    {
     "ename": "KeyboardInterrupt",
     "evalue": "Interrupted by user",
     "output_type": "error",
     "traceback": [
      "\u001b[0;31m---------------------------------------------------------------------------\u001b[0m",
      "\u001b[0;31mKeyboardInterrupt\u001b[0m                         Traceback (most recent call last)",
      "Input \u001b[0;32mIn [119]\u001b[0m, in \u001b[0;36m<cell line: 1>\u001b[0;34m()\u001b[0m\n\u001b[0;32m----> 1\u001b[0m \u001b[43mWriteStory\u001b[49m\u001b[43m(\u001b[49m\u001b[43m)\u001b[49m\n",
      "Input \u001b[0;32mIn [116]\u001b[0m, in \u001b[0;36mWriteStory\u001b[0;34m()\u001b[0m\n\u001b[1;32m     13\u001b[0m name \u001b[38;5;241m=\u001b[39m RetrieveGender()\n\u001b[1;32m     15\u001b[0m \u001b[38;5;28mprint\u001b[39m(\u001b[38;5;124mf\u001b[39m\u001b[38;5;124m\"\u001b[39m\u001b[38;5;130;01m\\n\u001b[39;00m\u001b[38;5;130;01m\\n\u001b[39;00m\u001b[38;5;124mOkay, then. We\u001b[39m\u001b[38;5;124m'\u001b[39m\u001b[38;5;124mre writing a story about \u001b[39m\u001b[38;5;132;01m{\u001b[39;00mprotagonist \u001b[38;5;241m+\u001b[39m name\u001b[38;5;132;01m}\u001b[39;00m\u001b[38;5;124m.\u001b[39m\u001b[38;5;124m\"\u001b[39m \u001b[38;5;241m+\u001b[39m\n\u001b[1;32m     16\u001b[0m       \u001b[38;5;124m\"\u001b[39m\u001b[38;5;130;01m\\n\u001b[39;00m\u001b[38;5;130;01m\\n\u001b[39;00m\u001b[38;5;124mWhat do you want to tackle now?\u001b[39m\u001b[38;5;130;01m\\n\u001b[39;00m\u001b[38;5;130;01m\\n\u001b[39;00m\u001b[38;5;124m\"\u001b[39m \u001b[38;5;241m+\u001b[39m \n\u001b[1;32m     17\u001b[0m       \u001b[38;5;124m\"\u001b[39m\u001b[38;5;124m(1) The location \u001b[39m\u001b[38;5;130;01m\\n\u001b[39;00m\u001b[38;5;124m(2) The quest \u001b[39m\u001b[38;5;130;01m\\n\u001b[39;00m\u001b[38;5;124m(3) The tools \u001b[39m\u001b[38;5;130;01m\\n\u001b[39;00m\u001b[38;5;124m(4) The lessons learned\u001b[39m\u001b[38;5;124m\"\u001b[39m)\n\u001b[0;32m---> 19\u001b[0m next_move \u001b[38;5;241m=\u001b[39m \u001b[38;5;28;43minput\u001b[39;49m\u001b[43m(\u001b[49m\u001b[38;5;124;43m\"\u001b[39;49m\u001b[38;5;130;43;01m\\n\u001b[39;49;00m\u001b[38;5;130;43;01m\\n\u001b[39;49;00m\u001b[38;5;124;43mSelect one:  \u001b[39;49m\u001b[38;5;124;43m\"\u001b[39;49m\u001b[43m)\u001b[49m\n\u001b[1;32m     21\u001b[0m \u001b[38;5;28;01mreturn\u001b[39;00m\n",
      "File \u001b[0;32m/opt/anaconda3/lib/python3.9/site-packages/ipykernel/kernelbase.py:1075\u001b[0m, in \u001b[0;36mKernel.raw_input\u001b[0;34m(self, prompt)\u001b[0m\n\u001b[1;32m   1071\u001b[0m \u001b[38;5;28;01mif\u001b[39;00m \u001b[38;5;129;01mnot\u001b[39;00m \u001b[38;5;28mself\u001b[39m\u001b[38;5;241m.\u001b[39m_allow_stdin:\n\u001b[1;32m   1072\u001b[0m     \u001b[38;5;28;01mraise\u001b[39;00m StdinNotImplementedError(\n\u001b[1;32m   1073\u001b[0m         \u001b[38;5;124m\"\u001b[39m\u001b[38;5;124mraw_input was called, but this frontend does not support input requests.\u001b[39m\u001b[38;5;124m\"\u001b[39m\n\u001b[1;32m   1074\u001b[0m     )\n\u001b[0;32m-> 1075\u001b[0m \u001b[38;5;28;01mreturn\u001b[39;00m \u001b[38;5;28;43mself\u001b[39;49m\u001b[38;5;241;43m.\u001b[39;49m\u001b[43m_input_request\u001b[49m\u001b[43m(\u001b[49m\n\u001b[1;32m   1076\u001b[0m \u001b[43m    \u001b[49m\u001b[38;5;28;43mstr\u001b[39;49m\u001b[43m(\u001b[49m\u001b[43mprompt\u001b[49m\u001b[43m)\u001b[49m\u001b[43m,\u001b[49m\n\u001b[1;32m   1077\u001b[0m \u001b[43m    \u001b[49m\u001b[38;5;28;43mself\u001b[39;49m\u001b[38;5;241;43m.\u001b[39;49m\u001b[43m_parent_ident\u001b[49m\u001b[43m[\u001b[49m\u001b[38;5;124;43m\"\u001b[39;49m\u001b[38;5;124;43mshell\u001b[39;49m\u001b[38;5;124;43m\"\u001b[39;49m\u001b[43m]\u001b[49m\u001b[43m,\u001b[49m\n\u001b[1;32m   1078\u001b[0m \u001b[43m    \u001b[49m\u001b[38;5;28;43mself\u001b[39;49m\u001b[38;5;241;43m.\u001b[39;49m\u001b[43mget_parent\u001b[49m\u001b[43m(\u001b[49m\u001b[38;5;124;43m\"\u001b[39;49m\u001b[38;5;124;43mshell\u001b[39;49m\u001b[38;5;124;43m\"\u001b[39;49m\u001b[43m)\u001b[49m\u001b[43m,\u001b[49m\n\u001b[1;32m   1079\u001b[0m \u001b[43m    \u001b[49m\u001b[43mpassword\u001b[49m\u001b[38;5;241;43m=\u001b[39;49m\u001b[38;5;28;43;01mFalse\u001b[39;49;00m\u001b[43m,\u001b[49m\n\u001b[1;32m   1080\u001b[0m \u001b[43m\u001b[49m\u001b[43m)\u001b[49m\n",
      "File \u001b[0;32m/opt/anaconda3/lib/python3.9/site-packages/ipykernel/kernelbase.py:1120\u001b[0m, in \u001b[0;36mKernel._input_request\u001b[0;34m(self, prompt, ident, parent, password)\u001b[0m\n\u001b[1;32m   1117\u001b[0m             \u001b[38;5;28;01mbreak\u001b[39;00m\n\u001b[1;32m   1118\u001b[0m \u001b[38;5;28;01mexcept\u001b[39;00m \u001b[38;5;167;01mKeyboardInterrupt\u001b[39;00m:\n\u001b[1;32m   1119\u001b[0m     \u001b[38;5;66;03m# re-raise KeyboardInterrupt, to truncate traceback\u001b[39;00m\n\u001b[0;32m-> 1120\u001b[0m     \u001b[38;5;28;01mraise\u001b[39;00m \u001b[38;5;167;01mKeyboardInterrupt\u001b[39;00m(\u001b[38;5;124m\"\u001b[39m\u001b[38;5;124mInterrupted by user\u001b[39m\u001b[38;5;124m\"\u001b[39m) \u001b[38;5;28;01mfrom\u001b[39;00m \u001b[38;5;28mNone\u001b[39m\n\u001b[1;32m   1121\u001b[0m \u001b[38;5;28;01mexcept\u001b[39;00m \u001b[38;5;167;01mException\u001b[39;00m:\n\u001b[1;32m   1122\u001b[0m     \u001b[38;5;28mself\u001b[39m\u001b[38;5;241m.\u001b[39mlog\u001b[38;5;241m.\u001b[39mwarning(\u001b[38;5;124m\"\u001b[39m\u001b[38;5;124mInvalid Message:\u001b[39m\u001b[38;5;124m\"\u001b[39m, exc_info\u001b[38;5;241m=\u001b[39m\u001b[38;5;28;01mTrue\u001b[39;00m)\n",
      "\u001b[0;31mKeyboardInterrupt\u001b[0m: Interrupted by user"
     ]
    }
   ],
   "source": [
    "WriteStory()"
   ]
  },
  {
   "cell_type": "markdown",
   "id": "125abf44",
   "metadata": {},
   "source": [
    "#### The MVP"
   ]
  },
  {
   "cell_type": "markdown",
   "id": "d739b32a",
   "metadata": {},
   "source": [
    "#### The Future of Tenzing"
   ]
  },
  {
   "cell_type": "code",
   "execution_count": null,
   "id": "d6a34f9d",
   "metadata": {},
   "outputs": [],
   "source": [
    "response = openai.Completion.create(model=\"text-davinci-002\",\n",
    "                                    temperature=creativity, \n",
    "                                    max_tokens=2049,\n",
    "                                    prompt=generate_prompt(creative_product, creativity, brand, product, genre))"
   ]
  }
 ],
 "metadata": {
  "kernelspec": {
   "display_name": "Python 3 (ipykernel)",
   "language": "python",
   "name": "python3"
  },
  "language_info": {
   "codemirror_mode": {
    "name": "ipython",
    "version": 3
   },
   "file_extension": ".py",
   "mimetype": "text/x-python",
   "name": "python",
   "nbconvert_exporter": "python",
   "pygments_lexer": "ipython3",
   "version": "3.9.12"
  }
 },
 "nbformat": 4,
 "nbformat_minor": 5
}
